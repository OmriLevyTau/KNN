{
 "cells": [
  {
   "cell_type": "code",
   "execution_count": 1,
   "metadata": {},
   "outputs": [],
   "source": [
    "import numpy as np\n",
    "import pandas as pd\n",
    "import matplotlib.pyplot as plt\n",
    "import seaborn as sns\n",
    "import sklearn\n",
    "from sklearn.datasets import fetch_openml\n",
    "%matplotlib inline\n",
    "plt.style.use('bmh')"
   ]
  },
  {
   "cell_type": "code",
   "execution_count": null,
   "metadata": {},
   "outputs": [],
   "source": []
  },
  {
   "cell_type": "code",
   "execution_count": 2,
   "metadata": {},
   "outputs": [],
   "source": [
    "class kNNClassifier:\n",
    "    def __init__(self, n_neighbors):\n",
    "        self.n_neighbors = n_neighbors\n",
    "        self.data = np.empty((1,1))\n",
    "        self.labels = np.empty((1,1))\n",
    "    \n",
    "    def fit(self, X, y):\n",
    "        self.data = X\n",
    "        self.labels= y\n",
    "        \n",
    "    def _predict_one_point(self,point):\n",
    "        dist = np.linalg.norm(self.data-point,axis=1)\n",
    "        k_smallets = np.argpartition(dist, self.n_neighbors)[:self.n_neighbors]\n",
    "        label_count = np.unique(self.labels[k_smallets],return_counts=True)\n",
    "        return label_count[0][label_count[1].argmax()]\n",
    "        \n",
    "    \n",
    "    def predict(self, X):\n",
    "        preds = np.zeros((X.shape[0],1))\n",
    "        for i in range(X.shape[0]):\n",
    "            preds[i]=self._predict_one_point(X[i])\n",
    "        return preds.T[0]\n",
    "    \n",
    "    def score(self, predictions, true_labels):\n",
    "        \n",
    "        return (np.count_nonzero(predictions-true_labels.astype(\"int\"))/predictions.size)\n",
    "        \n",
    "        "
   ]
  },
  {
   "cell_type": "code",
   "execution_count": null,
   "metadata": {},
   "outputs": [],
   "source": []
  }
 ],
 "metadata": {
  "kernelspec": {
   "display_name": "Python(my_env)",
   "language": "python",
   "name": "myenv"
  },
  "language_info": {
   "codemirror_mode": {
    "name": "ipython",
    "version": 3
   },
   "file_extension": ".py",
   "mimetype": "text/x-python",
   "name": "python",
   "nbconvert_exporter": "python",
   "pygments_lexer": "ipython3",
   "version": "3.8.5"
  }
 },
 "nbformat": 4,
 "nbformat_minor": 4
}
